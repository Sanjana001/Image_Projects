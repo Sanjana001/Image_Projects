{
 "cells": [
  {
   "cell_type": "markdown",
   "metadata": {},
   "source": [
    "Project: Image Sketching"
   ]
  },
  {
   "cell_type": "markdown",
   "metadata": {},
   "source": [
    "first import the required packages"
   ]
  },
  {
   "cell_type": "code",
   "execution_count": 4,
   "metadata": {},
   "outputs": [],
   "source": [
    "import cv2\n",
    "import numpy as np\n",
    "import os"
   ]
  },
  {
   "cell_type": "markdown",
   "metadata": {},
   "source": [
    "Pass the location of image and the location of directory where you want to save your final image"
   ]
  },
  {
   "cell_type": "code",
   "execution_count": 5,
   "metadata": {},
   "outputs": [],
   "source": [
    "img = cv2.imread(r\"C:\\Users\\HP\\Pictures\\camera pictures\\DSC01025.JPG\")\n",
    "img1 = cv2.imread(r\"C:\\Users\\HP\\Desktop\\bootstrap\\paper.jpg\")\n",
    "directory = r\"C:\\Users\\HP\\Desktop\\git\"\n",
    "#resize the images\n",
    "img = cv2.resize(img,(1000,800))\n",
    "img1 = cv2.resize(img1,(1000,800))\n",
    "#blur the image\n",
    "color = cv2.GaussianBlur(img,(3,3),5)\n",
    "#convert the color of image into gray\n",
    "img = cv2.cvtColor(img,cv2.COLOR_RGB2GRAY)\n",
    "edges = cv2.adaptiveThreshold(img, 255, cv2.ADAPTIVE_THRESH_GAUSSIAN_C, cv2.THRESH_BINARY, 9, 8)\n",
    "image = cv2.bitwise_and(color,color,mask=edges)\n",
    "img = cv2.addWeighted(image,0.9,img1,0.2,0)\n",
    "#to change the directory\n",
    "os.chdir(directory)\n",
    "#save the image with any name\n",
    "cv2.imwrite(\"Image1.jpg\",img)\n",
    "cv2.imshow(\"image\",img)\n",
    "cv2.waitKey(0)\n",
    "cv2.destroyAllWindows()"
   ]
  }
 ],
 "metadata": {
  "kernelspec": {
   "display_name": "Python 3",
   "language": "python",
   "name": "python3"
  },
  "language_info": {
   "codemirror_mode": {
    "name": "ipython",
    "version": 3
   },
   "file_extension": ".py",
   "mimetype": "text/x-python",
   "name": "python",
   "nbconvert_exporter": "python",
   "pygments_lexer": "ipython3",
   "version": "3.8.2"
  }
 },
 "nbformat": 4,
 "nbformat_minor": 4
}
